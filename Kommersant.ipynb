{
 "cells": [
  {
   "cell_type": "markdown",
   "metadata": {},
   "source": [
    "# Read Kommersant\n",
    "\n",
    "https://www.kommersant.ru/ratings"
   ]
  },
  {
   "cell_type": "code",
   "execution_count": 1,
   "metadata": {},
   "outputs": [
    {
     "name": "stdout",
     "output_type": "stream",
     "text": [
      "('ru_RU', 'UTF-8')\n"
     ]
    }
   ],
   "source": [
    "%run common.py\n",
    "\n",
    "import matplotlib.pyplot as plt\n",
    "import locale\n",
    "#locale.setlocale(locale.LC_TIME, 'en_US.UTF-8')\n",
    "\n",
    "print(locale.getlocale())\n",
    "\n",
    "eng_co=sa.create_engine('sqlite+pysqlite:///eco_words.sqlite3')#, echo=True)\n",
    "stop_w.update(['т.', 'д.', 'д..', 'ъ', 'это', 'тыс', 'руб', 'году', 'год', 'года', 'который', \n",
    "               'которому', 'которая', 'которым', 'которыми', 'считает', 'говорит'])\n",
    "\n",
    "def update_stop_words():\n",
    "    lst_txt_files=glob.glob('4text/*.txt')\n",
    "    stopd_words_ru=set()\n",
    "\n",
    "    for f in lst_txt_files:\n",
    "        with open(f, 'r') as sw_file:\n",
    "            stopd_words_ru.update(sw_file.read().split('\\n'))\n",
    "\n",
    "\n",
    "    stop_words2={w for w in stopd_words_ru if w.find(' ') > 0}\n",
    "    return {w for w in stopd_words_ru if w not in stop_words2}, stop_words2\n",
    "\n",
    "stop_w1, stop_w2=update_stop_words()\n",
    "\n",
    "remove_stop_words2=re.compile(r'(?i)' + '|'.join({ r'(\\b{}\\b)'.format(w) for w in stop_w2}))\n",
    "stop_w.update(stop_w1)\n",
    "#print(stop_w)\n",
    "\n",
    "%matplotlib notebook"
   ]
  },
  {
   "cell_type": "code",
   "execution_count": 78,
   "metadata": {},
   "outputs": [
    {
     "name": "stdout",
     "output_type": "stream",
     "text": [
      "Доллар скинул «санкционные» рубли - Но укрепление российской валюты в дальнейшем проблематично - Газета \"Коммерсантъ\" - Издательский Дом КоммерсантЪ.\n",
      "Доллар скинул «санкционные» рубли - Но укрепление российской валюты в дальнейшем проблематично - Газета \"Коммерсантъ\" - Издательский Дом КоммерсантЪ. Неделя завершилась уверенным укреплением российской валюты. В пятницу курс доллара на Московской бирже закрылся возле отметки 65,85 руб./$ — минимального значения с начала ноября. С начала недели американская валюта потеряла более 2 руб. Перенос очередной порции антироссийских санкций на следующий год спровоцировал инвесторов на сокращение валютных позиций. В ближайшее время курс доллара может опуститься ниже уровня 65 руб./$, но тема санкций сохранит давление на российскую валюту.\n",
      "Владимир Путин прозвенел на весь мир - До каких рамок дошли переговоры на саммите Россия—АСЕАН - Газета \"Коммерсантъ\" - Издательский Дом КоммерсантЪ.\n",
      "Владимир Путин прозвенел на весь мир - До каких рамок дошли переговоры на саммите Россия—АСЕАН - Газета \"Коммерсантъ\" - Издательский Дом КоммерсантЪ. 14 ноября президент России Владимир Путин в Сингапуре принял участие в работе саммита Россия—АСЕАН и провел несколько двусторонних встреч, а специальный корреспондент “Ъ” Андрей Колесников углубился в детали, которые им предшествовали и значили, скорее всего, не меньше, а больше, чем сами переговоры. Ведь, в конце концов, никогда раньше посол Японии в России не пытался дирижировать членами российской делегации, а Владимир Путин не ждал своих иностранных коллег так же долго, как раньше — они его.\n",
      "«Все с Березовского началось» - Самые влиятельные олигархи 1990-х годов в цитатах - \"Коммерсантъ\" - Издательский Дом КоммерсантЪ.\n",
      "«Все с Березовского началось» - Самые влиятельные олигархи 1990-х годов в цитатах - \"Коммерсантъ\" - Издательский Дом КоммерсантЪ. \n",
      "Примирителя Сирии обвинили «по ощущениям» - Генералу Минобороны вменяют мошенничество как лицу Академии Генштаба - Газета \"Коммерсантъ\" - Издательский Дом КоммерсантЪ.\n",
      "Примирителя Сирии обвинили «по ощущениям» - Генералу Минобороны вменяют мошенничество как лицу Академии Генштаба - Газета \"Коммерсантъ\" - Издательский Дом КоммерсантЪ. Как стало известно “Ъ”, фигурантом уголовного дела о мошенничестве стал бывший начальник российского Центра примирения враждующих сторон в Сирии Сергей Чварков. Генерал-лейтенант, занимающий сейчас должность заместителя начальника Военной академии Генштаба, обвиняется в том, что за три года похитил 6 млн руб. при реализации 400-миллионного госконтракта с коммерческой фирмой. Защита господина Чваркова утверждает, что их клиент к инкриминируемому деянию непричастен, а следствие никаких прямых доказательств его участия в хищениях не представило.\n",
      "Турецкий потоп - Народная любовь к новому газопроводу затопила стамбульский Hilton - Газета \"Коммерсантъ\" - Издательский Дом КоммерсантЪ.\n",
      "Турецкий потоп - Народная любовь к новому газопроводу затопила стамбульский Hilton - Газета \"Коммерсантъ\" - Издательский Дом КоммерсантЪ. 19 ноября президент России Владимир Путин в Стамбуле принял участие в церемонии окончания строительства морского участка газопровода «Турецкий поток», а специальный корреспондент “Ъ” Андрей Колесников был поражен тем, что происходило во время этой церемонии с четырехтысячным залом.\n",
      "РАНХиГС: почти четверть россиян живет в режиме жесткой экономии - Лента новостей (Москва) - Издательский Дом КоммерсантЪ.\n",
      "РАНХиГС: почти четверть россиян живет в режиме жесткой экономии - Лента новостей (Москва) - Издательский Дом КоммерсантЪ. Эксперты РАНХиГС провели анализ социально-экономического положения и самочувствия россиян и пришли к выводу, что больше 70% из них вынуждены экономить. Уровень доходов 22% участников проведенного исследователями опроса не позволяет им приобрести даже необходимый базовый набор продуктов питания.<BR><BR>Эксперты разделили полученные данные по четырем зонам: зона бедности, зона потребительского риска, зона возможных изменений и зона потребительского комфорта. В первую зону вошли респонденты, чьи доходы не могу позволить минимально необходимый набор продуктов (22%).<BR><BR>В зону потребительского риска вошли 35,6% опрошенных. На свой заработок они могут купить нормальную еду и одежду, но приобретение предметов длительного пользования (бытовые приборы, смартфоны и компьютеры) вызывает большие трудности. Перспектива повышения дохода у них отсутствует.<BR><BR>Зона возможных изменений вместила в себя 14,1% респондентов. Ее можно поделить на две группы: респонденты, чьи финансы позволяют обеспечить нормальное питание и одежду. Покупка…\n"
     ]
    },
    {
     "ename": "UnboundLocalError",
     "evalue": "local variable 'scut' referenced before assignment",
     "output_type": "error",
     "traceback": [
      "\u001b[0;31m---------------------------------------------------------------------------\u001b[0m",
      "\u001b[0;31mUnboundLocalError\u001b[0m                         Traceback (most recent call last)",
      "\u001b[0;32m<ipython-input-78-341ee1be5fd7>\u001b[0m in \u001b[0;36m<module>\u001b[0;34m()\u001b[0m\n\u001b[1;32m     71\u001b[0m \u001b[0;34m\u001b[0m\u001b[0m\n\u001b[1;32m     72\u001b[0m \u001b[0;34m\u001b[0m\u001b[0m\n\u001b[0;32m---> 73\u001b[0;31m \u001b[0mkommersant\u001b[0m\u001b[0;34m=\u001b[0m\u001b[0mArticlesDataFrame\u001b[0m\u001b[0;34m(\u001b[0m\u001b[0mpd\u001b[0m\u001b[0;34m.\u001b[0m\u001b[0mDataFrame\u001b[0m\u001b[0;34m(\u001b[0m\u001b[0mget_kommersant_ribbon\u001b[0m\u001b[0;34m(\u001b[0m\u001b[0;34m)\u001b[0m\u001b[0;34m)\u001b[0m\u001b[0;34m.\u001b[0m\u001b[0mset_index\u001b[0m\u001b[0;34m(\u001b[0m\u001b[0;34m'title'\u001b[0m\u001b[0;34m)\u001b[0m\u001b[0;34m)\u001b[0m\u001b[0;34m\u001b[0m\u001b[0m\n\u001b[0m\u001b[1;32m     74\u001b[0m \u001b[0mkommersant\u001b[0m\u001b[0;34m.\u001b[0m\u001b[0mto_sql\u001b[0m\u001b[0;34m(\u001b[0m\u001b[0;34m'KOMMERSANT'\u001b[0m\u001b[0;34m,\u001b[0m \u001b[0mcon\u001b[0m\u001b[0;34m=\u001b[0m\u001b[0meng_co\u001b[0m\u001b[0;34m,\u001b[0m \u001b[0mif_exists\u001b[0m\u001b[0;34m=\u001b[0m\u001b[0;34m'upsert'\u001b[0m\u001b[0;34m)\u001b[0m\u001b[0;34m\u001b[0m\u001b[0m\n\u001b[1;32m     75\u001b[0m \u001b[0mprint\u001b[0m\u001b[0;34m(\u001b[0m\u001b[0mkommersant\u001b[0m\u001b[0;34m.\u001b[0m\u001b[0mhead\u001b[0m\u001b[0;34m(\u001b[0m\u001b[0;36m5\u001b[0m\u001b[0;34m)\u001b[0m\u001b[0;34m)\u001b[0m\u001b[0;34m\u001b[0m\u001b[0m\n",
      "\u001b[0;32m<ipython-input-78-341ee1be5fd7>\u001b[0m in \u001b[0;36mget_kommersant_ribbon\u001b[0;34m(strURL)\u001b[0m\n\u001b[1;32m     64\u001b[0m         dct={'title':title, 'rubrica': subtitle, 'link':link, \n\u001b[1;32m     65\u001b[0m                'date':dt, 'rating':view_rating}\n\u001b[0;32m---> 66\u001b[0;31m         \u001b[0mdct\u001b[0m\u001b[0;34m.\u001b[0m\u001b[0mupdate\u001b[0m\u001b[0;34m(\u001b[0m\u001b[0mget_item\u001b[0m\u001b[0;34m(\u001b[0m\u001b[0mlink\u001b[0m\u001b[0;34m)\u001b[0m\u001b[0;34m)\u001b[0m\u001b[0;34m\u001b[0m\u001b[0m\n\u001b[0m\u001b[1;32m     67\u001b[0m         \u001b[0mret_lst\u001b[0m\u001b[0;34m.\u001b[0m\u001b[0mappend\u001b[0m\u001b[0;34m(\u001b[0m\u001b[0mdct\u001b[0m\u001b[0;34m)\u001b[0m\u001b[0;34m\u001b[0m\u001b[0m\n\u001b[1;32m     68\u001b[0m \u001b[0;34m\u001b[0m\u001b[0m\n",
      "\u001b[0;32m<ipython-input-78-341ee1be5fd7>\u001b[0m in \u001b[0;36mget_item\u001b[0;34m(strUrl)\u001b[0m\n\u001b[1;32m     34\u001b[0m         \u001b[0mtext\u001b[0m\u001b[0;34m=\u001b[0m\u001b[0;34m'\\n'\u001b[0m\u001b[0;34m.\u001b[0m\u001b[0mjoin\u001b[0m\u001b[0;34m(\u001b[0m\u001b[0mp\u001b[0m\u001b[0;34m.\u001b[0m\u001b[0mtext\u001b[0m\u001b[0;34m.\u001b[0m\u001b[0mstrip\u001b[0m\u001b[0;34m(\u001b[0m\u001b[0;34m)\u001b[0m \u001b[0;32mfor\u001b[0m \u001b[0mp\u001b[0m \u001b[0;32min\u001b[0m \u001b[0mptext\u001b[0m \u001b[0;32mif\u001b[0m \u001b[0;32mnot\u001b[0m \u001b[0mp\u001b[0m\u001b[0;34m.\u001b[0m\u001b[0mfind\u001b[0m\u001b[0;34m(\u001b[0m\u001b[0;34m'span'\u001b[0m\u001b[0;34m,\u001b[0m \u001b[0mclass_\u001b[0m\u001b[0;34m=\u001b[0m\u001b[0;34m'b-article__intro'\u001b[0m\u001b[0;34m)\u001b[0m\u001b[0;34m)\u001b[0m\u001b[0;34m\u001b[0m\u001b[0m\n\u001b[1;32m     35\u001b[0m \u001b[0;34m\u001b[0m\u001b[0m\n\u001b[0;32m---> 36\u001b[0;31m         \u001b[0;32mreturn\u001b[0m \u001b[0;34m{\u001b[0m\u001b[0;34m'text'\u001b[0m\u001b[0;34m:\u001b[0m\u001b[0mtext\u001b[0m\u001b[0;34m,\u001b[0m \u001b[0;34m'heads'\u001b[0m\u001b[0;34m:\u001b[0m\u001b[0mheads\u001b[0m\u001b[0;34m,\u001b[0m \u001b[0;34m'cuts'\u001b[0m\u001b[0;34m:\u001b[0m\u001b[0mscut\u001b[0m\u001b[0;34m,\u001b[0m \u001b[0;34m'keyw'\u001b[0m\u001b[0;34m:\u001b[0m\u001b[0mkey_w\u001b[0m\u001b[0;34m,\u001b[0m \u001b[0;34m'short'\u001b[0m\u001b[0;34m:\u001b[0m\u001b[0mshort\u001b[0m\u001b[0;34m}\u001b[0m\u001b[0;34m\u001b[0m\u001b[0m\n\u001b[0m\u001b[1;32m     37\u001b[0m \u001b[0;34m\u001b[0m\u001b[0m\n\u001b[1;32m     38\u001b[0m     \u001b[0msessKomm\u001b[0m\u001b[0;34m=\u001b[0m\u001b[0mrequests\u001b[0m\u001b[0;34m.\u001b[0m\u001b[0msession\u001b[0m\u001b[0;34m(\u001b[0m\u001b[0;34m)\u001b[0m\u001b[0;34m\u001b[0m\u001b[0m\n",
      "\u001b[0;31mUnboundLocalError\u001b[0m: local variable 'scut' referenced before assignment"
     ]
    }
   ],
   "source": [
    "strKomm=r'https://www.kommersant.ru/ratings'\n",
    "\n",
    "def get_kommersant_ribbon(strURL=strKomm):\n",
    "    \n",
    "    def get_item(strUrl):\n",
    "        r=sessKomm.get(strUrl)\n",
    "        soup=BS(r.text, 'html.parser')\n",
    "        \n",
    "        title=soup.find('meta', {'name':'title'})['content']\n",
    "\n",
    "        re_cut=re.compile('(?m)(?<={title}).*$'.format(title=title.replace('.', '\\.')))\n",
    "        descr=soup.find('meta', {'name':'description'})['content']\n",
    "\n",
    "        try:\n",
    "            scut=re_cut.search(descr)[0].strip()\n",
    "        except:\n",
    "            pass\n",
    "        print(title)\n",
    "        print(descr)\n",
    "\n",
    "        key_w=soup.find('meta', {'name':'keywords'})['content']\n",
    "    \n",
    "        div_text=soup.find('div', class_='text')\n",
    "        div_item=soup.find('div', class_='article_text_wrapper')\n",
    "    \n",
    "        try:\n",
    "            short=soup.find('span', class_='b-article__intro').text.strip()\n",
    "        except:\n",
    "            short=None\n",
    "        \n",
    "        heads='\\n'.join([h.text.strip() for h in soup.findAll('h1', class_=\"article_subheader\")]) + \\\n",
    "        '\\n'+ '\\n'.join([th.text.strip() for th in soup.findAll('div', class_='b-article__thought')])\n",
    "    \n",
    "        ptext=soup.findAll('p', class_='b-article__text')\n",
    "        text='\\n'.join(p.text.strip() for p in ptext if not p.find('span', class_='b-article__intro'))\n",
    "    \n",
    "        return {'text':text, 'heads':heads, 'cuts':scut, 'keyw':key_w, 'short':short}\n",
    "    \n",
    "    sessKomm=requests.session()\n",
    "    sessKomm.headers.update(req_headers)\n",
    "    \n",
    "    r=sessKomm.get(strURL)\n",
    "    soup=BS(r.text, 'html.parser')\n",
    "\n",
    "    items=soup.findAll('div', class_='ratings_docs__item')\n",
    "    ret_lst=[]\n",
    "    for item in items:\n",
    "        \n",
    "        str_dt= re.match(r'.*, (?P<day>\\d{1,2})\\.(?P<month>\\d{1,2})\\.(?P<year>\\d{4})', \n",
    "                    item.find('span', class_='ratings_docs__status_name').text.strip())\n",
    "        \n",
    "        #print(str_dt, str_dt['year'], str_dt['month'], str_dt['day'])\n",
    "        \n",
    "        dt=date(int(str_dt['year']), int(str_dt['month']), int(str_dt['day']))\n",
    "        title=item.find('div', class_='ratings_docs__item_header').text\n",
    "        #print(title)\n",
    "        try:\n",
    "            subtitle=item.find('div', class_='ratings_docs__item_subheader').text\n",
    "        except:\n",
    "            subtitle=None\n",
    "        view_rating=item.find('span', class_='ratings_hitscount_number').text\n",
    "        \n",
    "        #short=item.find('div', class_='ratings_docs__item_vvodka').text\n",
    "        link=r'https://www.kommersant.ru/' + item.find('a', class_='ratings_docs__text')['href']\n",
    "        dct={'title':title, 'rubrica': subtitle, 'link':link, \n",
    "               'date':dt, 'rating':view_rating}\n",
    "        dct.update(get_item(link))\n",
    "        ret_lst.append(dct)\n",
    "        \n",
    "    time.sleep(2)\n",
    "    return ret_lst\n",
    "    \n",
    "    \n",
    "kommersant=ArticlesDataFrame(pd.DataFrame(get_kommersant_ribbon()).set_index('title'))\n",
    "kommersant.to_sql('KOMMERSANT', con=eng_co, if_exists='upsert')\n",
    "print(kommersant.head(5))"
   ]
  },
  {
   "cell_type": "code",
   "execution_count": 81,
   "metadata": {},
   "outputs": [
    {
     "name": "stdout",
     "output_type": "stream",
     "text": [
      "РАНХиГС: почти четверть россиян живет в режиме жесткой экономии - Лента новостей (Москва) - Издательский Дом КоммерсантЪ. Эксперты РАНХиГС провели анализ социально-экономического положения и самочувствия россиян и пришли к выводу, что больше 70% из них вынуждены экономить. Уровень доходов 22% участников проведенного исследователями опроса не позволяет им приобрести даже необходимый базовый набор продуктов питания\n",
      "None\n"
     ]
    }
   ],
   "source": [
    "strT='РАНХиГС: почти четверть россиян живет в режиме жесткой экономии - ' \\\n",
    "      'Лента новостей (Москва) - Издательский Дом КоммерсантЪ.'\n",
    "strF='РАНХиГС: почти четверть россиян живет в режиме жесткой экономии - ' \\\n",
    "'Лента новостей (Москва) - Издательский Дом КоммерсантЪ. ' \\\n",
    "'Эксперты РАНХиГС провели анализ социально-экономического положения и самочувствия россиян и пришли к выводу, ' \\\n",
    "'что больше 70% из них вынуждены экономить. Уровень доходов 22% участников проведенного исследователями опроса ' \\\n",
    "'не позволяет им приобрести даже необходимый базовый набор продуктов питания'\n",
    "\n",
    "\n",
    "fnd=re.compile('(?m:)(?<={title}).*$'.format(title=strT.replace('.', '\\.')))\n",
    "\n",
    "print(fnd.search(strF.replace('<BR>', '\\n')))\n"
   ]
  },
  {
   "cell_type": "markdown",
   "metadata": {},
   "source": [
    "### Kommersant from DB"
   ]
  },
  {
   "cell_type": "code",
   "execution_count": null,
   "metadata": {},
   "outputs": [],
   "source": [
    "kommersant_db=pd.read_sql('KOMMERSANT', con=eng_co, index_col='title')\n",
    "kommersant_db['date']=pd.to_datetime(kommersant_db['date'], format='%Y-%m-%d')\n",
    "#print(kommersant_db)\n",
    "kommersant_db=kommersant_db[(kommersant_db['date'].isin(dateFilter)) & (kommersant_db['rating'].astype(int)>1000)]\n",
    "print(kommersant_db)"
   ]
  },
  {
   "cell_type": "code",
   "execution_count": null,
   "metadata": {},
   "outputs": [],
   "source": [
    "def make_komm_text(pdf=kommersant_db):\n",
    "    sessExp=requests.session()\n",
    "    sessExp.headers.update(req_headers)\n",
    "    text=''\n",
    "    \n",
    "    for i, r in pdf.iterrows():\n",
    "        time.sleep(1)\n",
    "        r=sessExp.get(r['link'])\n",
    "        soup=BS(r.text, 'html.parser')\n",
    "        ps=soup.findAll('p', class_='b-article__text')\n",
    "        divs=soup.findAll('div', class_='b-article__thought')\n",
    "        text+='  '.join(p.text for p in ps if p) + '  '\n",
    "        text+='  '.join(d.text for d in divs if d) + '  ' \n",
    "    return text\n",
    "komm_text=make_komm_text()\n"
   ]
  },
  {
   "cell_type": "code",
   "execution_count": null,
   "metadata": {},
   "outputs": [],
   "source": [
    "def FreqWordCollacs(text, win_size=2, stop_words=stop_w, nbest_ration=50):\n",
    "    \n",
    "    x_text=re.sub(r'\\W', ' ', text)\n",
    "    \n",
    "    word_filter=lambda x: x.lower() in stop_words or x.find('.')>=0\n",
    "\n",
    "    w_token=[w.replace('.-', '') for w in word_tokenize(x_text) if w.lower() not in stop_words]\n",
    "    \n",
    "    bcf=BigramCollocationFinder.from_words(w_token, window_size=win_size)\n",
    "    bcf.apply_word_filter(word_filter)\n",
    "    bigrams=bcf.nbest(BigramAssocMeasures.likelihood_ratio, nbest_ration)\n",
    "    \n",
    "    tokenizer=MWETokenizer(bigrams)\n",
    "\n",
    "    #print(tokenizer.tokenize(w_token))\n",
    "    \n",
    "    freq=nltk.FreqDist(tokenizer.tokenize(w_token))\n",
    "\n",
    "    freq={i[0].replace('_', ' '):i[1] for i in freq.items()}\n",
    "    \n",
    "    for i in bigrams:\n",
    "        base_key=' '.join(i)\n",
    "        keys=list(freq.keys())\n",
    "        for j in keys:\n",
    "            lst=j.split(' ')\n",
    "            if len(lst)>1:\n",
    "                try:\n",
    "                    dist=nltk.jaccard_distance(set(i[0]), set(lst[0])) + nltk.jaccard_distance(set(i[1]), set(lst[1]))\n",
    "                    if 0 < dist < 0.4:\n",
    "                        freq[base_key]+=freq.pop(j, 0)\n",
    "                        #print(base_key, j, freq[base_key], dist)\n",
    "                except KeyError:\n",
    "                    pass\n",
    "                    #print('error: ', base_key, j)\n",
    "    return nltk.FreqDist(freq)\n",
    "\n",
    "item_kc=remove_stop_words2.sub(' ', komm_text)\n",
    "\n",
    "#stop_w.update(['это', '—', \"''\", '»', '``', '«', 'года', '“', 'ъ', '”', '..', 'также', 'могут', \n",
    "#               'мнению', 'говорит', 'делать', 'время', 'которые', 'числе', 'октября', 'лет', \n",
    "#               'пояснил', 'словам', 'тыс', 'тыс.', 'руб', 'руб.', 'просто', 'например', 'скорее', \n",
    "#               'около', 'будут', 'говорили', 'которого', 'господин', 'сразу', 'которая', \n",
    "#               'которое', 'которому', 'которые', 'который', 'редко', 'крепко', 'далее','одной', \n",
    "#               'одна','одним', 'одни', 'стали','стала', 'стал', 'стало', 'выше','свыше', 'самой', \n",
    "#               'самим', 'саму','самый','самого', 'кроме', 'проще', 'вроде', \n",
    "#               'затем','исходя','частое','касается', 'вслед','неудобно','удобно','некоторым',\n",
    "#               'некоторой','некоторое','сюда','туда','оттуда','отсюда','своему','своим','своего','свою'] )\n",
    "\n",
    "\n",
    "kommers_freq=FreqWordCollacs(item_kc, stop_words=stop_w)\n",
    "\n",
    "show_cloud(freq_array=kommers_freq, \n",
    "           title='Темы месяца - Коммерсант', max_words=200, fig_size=(9, 5), filename='kommers.png')"
   ]
  },
  {
   "cell_type": "code",
   "execution_count": null,
   "metadata": {},
   "outputs": [],
   "source": [
    "item_exp=remove_stop_words2.sub(' ', expert_text)\n",
    "#item_kc=remove_stop_words2.sub(' ', komm_text)\n",
    "\n",
    "expert_freq=FreqWordCollacs(item_exp, stop_words=stop_w) \n",
    "#kommers_freq=FreqWordCollacs(item_kc, stop_words=stop_w)\n",
    "\n",
    "\n",
    "#keys_komm=set(kommers_freq.keys())\n",
    "#keys_exp=set(expert_freq)\n",
    "#for k in (keys_komm & keys_exp):\n",
    "#    kommers_freq[k]+=expert_freq.pop(k, 0)\n",
    "\n",
    "#print(keys_komm & keys_exp)\n",
    "#kommers_freq.update(expert_freq)\n",
    "\n",
    "show_cloud(freq_array=expert_freq, \n",
    "           title='Темы месяца - Два источника', max_words=200, fig_size=(9, 5), filename='kommers.png')"
   ]
  },
  {
   "cell_type": "code",
   "execution_count": 4,
   "metadata": {},
   "outputs": [
    {
     "name": "stdout",
     "output_type": "stream",
     "text": [
      "[nltk_data] Downloading package averaged_perceptron_tagger_ru to\n",
      "[nltk_data]     /home/egor/nltk_data...\n",
      "[nltk_data]   Unzipping taggers/averaged_perceptron_tagger_ru.zip.\n"
     ]
    },
    {
     "data": {
      "text/plain": [
       "True"
      ]
     },
     "execution_count": 4,
     "metadata": {},
     "output_type": "execute_result"
    }
   ],
   "source": [
    "nltk.download('averaged_perceptron_tagger_ru')"
   ]
  },
  {
   "cell_type": "code",
   "execution_count": null,
   "metadata": {},
   "outputs": [],
   "source": [
    "#https://wiki-ru-wordnet.readthedocs.io/en/latest/\n",
    "from wiki_ru_wordnet import WikiWordnet\n",
    "wikiwordnet = WikiWordnet()\n"
   ]
  },
  {
   "cell_type": "code",
   "execution_count": 82,
   "metadata": {},
   "outputs": [
    {
     "name": "stdout",
     "output_type": "stream",
     "text": [
      "The Zen of Python, by Tim Peters\n",
      "\n",
      "Beautiful is better than ugly.\n",
      "Explicit is better than implicit.\n",
      "Simple is better than complex.\n",
      "Complex is better than complicated.\n",
      "Flat is better than nested.\n",
      "Sparse is better than dense.\n",
      "Readability counts.\n",
      "Special cases aren't special enough to break the rules.\n",
      "Although practicality beats purity.\n",
      "Errors should never pass silently.\n",
      "Unless explicitly silenced.\n",
      "In the face of ambiguity, refuse the temptation to guess.\n",
      "There should be one-- and preferably only one --obvious way to do it.\n",
      "Although that way may not be obvious at first unless you're Dutch.\n",
      "Now is better than never.\n",
      "Although never is often better than *right* now.\n",
      "If the implementation is hard to explain, it's a bad idea.\n",
      "If the implementation is easy to explain, it may be a good idea.\n",
      "Namespaces are one honking great idea -- let's do more of those!\n"
     ]
    }
   ],
   "source": [
    "import this"
   ]
  },
  {
   "cell_type": "code",
   "execution_count": null,
   "metadata": {},
   "outputs": [],
   "source": []
  }
 ],
 "metadata": {
  "kernelspec": {
   "display_name": "Python 3",
   "language": "python",
   "name": "python3"
  },
  "language_info": {
   "codemirror_mode": {
    "name": "ipython",
    "version": 3
   },
   "file_extension": ".py",
   "mimetype": "text/x-python",
   "name": "python",
   "nbconvert_exporter": "python",
   "pygments_lexer": "ipython3",
   "version": "3.6.4"
  }
 },
 "nbformat": 4,
 "nbformat_minor": 2
}
